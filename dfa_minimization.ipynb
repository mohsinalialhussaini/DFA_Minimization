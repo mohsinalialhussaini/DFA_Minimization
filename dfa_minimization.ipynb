{
 "cells": [
  {
   "cell_type": "markdown",
   "metadata": {},
   "source": [
    "# Deterministic Finite Automaton Minimization"
   ]
  },
  {
   "cell_type": "markdown",
   "metadata": {
    "pycharm": {
     "name": "#%% md\n"
    }
   },
   "source": [
    "## Input format\n",
    "\n",
    "    states number\n",
    "    final states list\n",
    "    states transitions by zero\n",
    "    states transitions by one\n",
    "\n",
    "#### Example\n",
    "\n",
    "    8\n",
    "    5 6\n",
    "    7 7 4 4 5 5 6 2\n",
    "    1 0 5 5 6 5 5 2"
   ]
  },
  {
   "cell_type": "code",
   "execution_count": 2,
   "metadata": {
    "pycharm": {
     "name": "#%%\n"
    }
   },
   "outputs": [
    {
     "ename": "ModuleNotFoundError",
     "evalue": "No module named 'graphviz'",
     "output_type": "error",
     "traceback": [
      "\u001b[1;31m---------------------------------------------------------------------------\u001b[0m",
      "\u001b[1;31mModuleNotFoundError\u001b[0m                       Traceback (most recent call last)",
      "\u001b[1;32m<ipython-input-2-ea1642e9dd54>\u001b[0m in \u001b[0;36m<module>\u001b[1;34m\u001b[0m\n\u001b[1;32m----> 1\u001b[1;33m \u001b[1;32mfrom\u001b[0m \u001b[0mgraphviz\u001b[0m \u001b[1;32mimport\u001b[0m \u001b[0mDigraph\u001b[0m\u001b[1;33m\u001b[0m\u001b[1;33m\u001b[0m\u001b[0m\n\u001b[0m\u001b[0;32m      2\u001b[0m \u001b[1;32mfrom\u001b[0m \u001b[0mcopy\u001b[0m \u001b[1;32mimport\u001b[0m \u001b[0mdeepcopy\u001b[0m\u001b[1;33m\u001b[0m\u001b[1;33m\u001b[0m\u001b[0m\n\u001b[0;32m      3\u001b[0m \u001b[1;33m\u001b[0m\u001b[0m\n\u001b[0;32m      4\u001b[0m \u001b[1;33m\u001b[0m\u001b[0m\n\u001b[0;32m      5\u001b[0m \u001b[1;32mclass\u001b[0m \u001b[0mAutomaton\u001b[0m\u001b[1;33m:\u001b[0m\u001b[1;33m\u001b[0m\u001b[1;33m\u001b[0m\u001b[0m\n",
      "\u001b[1;31mModuleNotFoundError\u001b[0m: No module named 'graphviz'"
     ]
    }
   ],
   "source": [
    "from graphviz import Digraph\n",
    "from copy import deepcopy\n",
    "\n",
    "\n",
    "class Automaton:\n",
    "    def __init__(self, states=None, final_states=None, by_zero=None, by_one=None):\n",
    "        self.states = states\n",
    "        self.final_states = final_states\n",
    "        self.by_zero = by_zero\n",
    "        self.by_one = by_one\n",
    "\n",
    "    def visualize(self):\n",
    "        graph = Digraph()\n",
    "\n",
    "        for state in self.states:\n",
    "            if state in self.final_states:\n",
    "                graph.node(name=str(state), label=str(state), shape='doublecircle')\n",
    "            else:\n",
    "                graph.node(name=str(state), label=str(state), shape='circle')\n",
    "\n",
    "        for tail, head in zip(self.states, self.by_zero):\n",
    "            graph.edge(tail_name=str(tail), head_name=str(head), label='0')\n",
    "\n",
    "        for tail, head in zip(self.states, self.by_one):\n",
    "            graph.edge(tail_name=str(tail), head_name=str(head), label='1')\n",
    "\n",
    "        return graph\n",
    "\n",
    "\n",
    "def read_automaton(input_file):\n",
    "    automaton = Automaton()\n",
    "\n",
    "    with open(input_file) as file:\n",
    "        automaton.states = list(range(int(file.readline())))\n",
    "        lines = []\n",
    "        for line in file.readlines():\n",
    "            lines.append([int(i) for i in line.split()])\n",
    "        automaton.final_states, automaton.by_zero, automaton.by_one = lines\n",
    "\n",
    "    return automaton\n",
    "\n",
    "\n",
    "def get_equivalence_classes(automaton):\n",
    "    equivalence_classes = []\n",
    "\n",
    "    marked_states = []\n",
    "    for state in automaton.states:\n",
    "        if state in automaton.final_states:\n",
    "            marked_states.append((1, (None, None)))  # (<class>, (<transition_by_zero_class>, <transition_by_one_class>))\n",
    "        else:\n",
    "            marked_states.append((0, (None, None)))\n",
    "\n",
    "    old_classes_count = len(set(marked_states))\n",
    "\n",
    "    while True:\n",
    "        for state, state_marks in enumerate(marked_states):\n",
    "            marked_states[state] = \\\n",
    "                (state_marks[0],\n",
    "                 (marked_states[automaton.by_zero[state]][0], marked_states[automaton.by_one[state]][0]))\n",
    "\n",
    "        unique_marks = list(set(marked_states))\n",
    "        for state, state_marks in enumerate(marked_states):\n",
    "            marked_states[state] = (unique_marks.index(state_marks), (None, None))\n",
    "\n",
    "        if len(unique_marks) == old_classes_count:\n",
    "            for equivalence_class in range(len(unique_marks)):\n",
    "                equivalence_classes.append([state for state, state_marks in enumerate(marked_states)\n",
    "                                           if state_marks[0] == equivalence_class])\n",
    "            break\n",
    "\n",
    "        old_classes_count = len(unique_marks)\n",
    "\n",
    "    return equivalence_classes\n",
    "\n",
    "\n",
    "def minimize_automaton(automaton, equivalence_classes):\n",
    "    minimal_automaton = deepcopy(automaton)\n",
    "\n",
    "    for equivalence_class in equivalence_classes:\n",
    "        for state in equivalence_class:\n",
    "            if minimal_automaton.by_zero[state] in equivalence_class:\n",
    "                minimal_automaton.by_zero[state] = state\n",
    "            else:\n",
    "                minimal_automaton.by_zero[state] = \\\n",
    "                    min(equivalence_classes[[equivalence_classes.index(equivalence_class)\n",
    "                                             for equivalence_class in equivalence_classes\n",
    "                                             if minimal_automaton.by_zero[state] in equivalence_class][0]])\n",
    "            if minimal_automaton.by_one[state] in equivalence_class:\n",
    "                minimal_automaton.by_one[state] = state\n",
    "            else:\n",
    "                minimal_automaton.by_one[state] = \\\n",
    "                    min(equivalence_classes[[equivalence_classes.index(equivalence_class)\n",
    "                                             for equivalence_class in equivalence_classes\n",
    "                                             if minimal_automaton.by_one[state] in equivalence_class][0]])\n",
    "\n",
    "    for equivalence_class in equivalence_classes:\n",
    "        for state in equivalence_class[1:]:\n",
    "            minimal_automaton.by_zero[state] = -1\n",
    "            minimal_automaton.by_one[state] = -1\n",
    "            if state in minimal_automaton.final_states:\n",
    "                minimal_automaton.final_states.remove(state)\n",
    "            minimal_automaton.states[minimal_automaton.states.index(state)] = -1\n",
    "\n",
    "    not_deleted = lambda x: x != -1\n",
    "    minimal_automaton.states = list(filter(not_deleted, minimal_automaton.states))\n",
    "    minimal_automaton.by_zero = list(filter(not_deleted, minimal_automaton.by_zero))\n",
    "    minimal_automaton.by_one = list(filter(not_deleted, minimal_automaton.by_one))\n",
    "\n",
    "    for i, state in enumerate(minimal_automaton.states):\n",
    "        if i < len(minimal_automaton.final_states):\n",
    "            minimal_automaton.final_states[i] = minimal_automaton.states.index(minimal_automaton.final_states[i])\n",
    "        minimal_automaton.by_zero[i] = minimal_automaton.states.index(minimal_automaton.by_zero[i])\n",
    "        minimal_automaton.by_one[i] = minimal_automaton.states.index(minimal_automaton.by_one[i])\n",
    "    minimal_automaton.states = list(range(len(minimal_automaton.states)))\n",
    "\n",
    "    return minimal_automaton"
   ]
  },
  {
   "cell_type": "markdown",
   "metadata": {},
   "source": [
    "## Random DFA generator"
   ]
  },
  {
   "cell_type": "code",
   "execution_count": 3,
   "metadata": {},
   "outputs": [
    {
     "name": "stdout",
     "output_type": "stream",
     "text": [
      "Test generated\n"
     ]
    }
   ],
   "source": [
    "import random\n",
    "\n",
    "def generate_test_dfa(states_number):\n",
    "    final_states_number = random.randint(0, states_number - 1)\n",
    "    final_states = [random.randint(0, states_number - 1) for i in range(final_states_number)]\n",
    "    by_zero = [random.randint(0, states_number - 1) for i in range(states_number)]\n",
    "    by_one = [random.randint(0, states_number - 1) for i in range(states_number)]\n",
    "    test_data = str(states_number) + '\\n' + ' '.join(str(v) for v in final_states) + '\\n' + ' '.join(str(v) for v in by_zero) + '\\n' + ' '.join(str(v) for v in by_one)\n",
    "    with open('test_dfa.txt', 'w') as file:\n",
    "        file.write(test_data)\n",
    "    print('Test generated')\n",
    "\n",
    "\n",
    "generate_test_dfa(5)"
   ]
  },
  {
   "cell_type": "markdown",
   "metadata": {},
   "source": [
    "#### Reading random DFA"
   ]
  },
  {
   "cell_type": "code",
   "execution_count": 4,
   "metadata": {},
   "outputs": [
    {
     "ename": "NameError",
     "evalue": "name 'read_automaton' is not defined",
     "output_type": "error",
     "traceback": [
      "\u001b[1;31m---------------------------------------------------------------------------\u001b[0m",
      "\u001b[1;31mNameError\u001b[0m                                 Traceback (most recent call last)",
      "\u001b[1;32m<ipython-input-4-277ac2f3a887>\u001b[0m in \u001b[0;36m<module>\u001b[1;34m\u001b[0m\n\u001b[1;32m----> 1\u001b[1;33m \u001b[0minitial_automaton\u001b[0m \u001b[1;33m=\u001b[0m \u001b[0mread_automaton\u001b[0m\u001b[1;33m(\u001b[0m\u001b[1;34m'test_dfa.txt'\u001b[0m\u001b[1;33m)\u001b[0m\u001b[1;33m\u001b[0m\u001b[1;33m\u001b[0m\u001b[0m\n\u001b[0m",
      "\u001b[1;31mNameError\u001b[0m: name 'read_automaton' is not defined"
     ]
    }
   ],
   "source": [
    "initial_automaton = read_automaton('test_dfa.txt')"
   ]
  },
  {
   "cell_type": "markdown",
   "metadata": {},
   "source": [
    "#### Reading DFA from file"
   ]
  },
  {
   "cell_type": "code",
   "execution_count": 5,
   "metadata": {},
   "outputs": [
    {
     "ename": "NameError",
     "evalue": "name 'read_automaton' is not defined",
     "output_type": "error",
     "traceback": [
      "\u001b[1;31m---------------------------------------------------------------------------\u001b[0m",
      "\u001b[1;31mNameError\u001b[0m                                 Traceback (most recent call last)",
      "\u001b[1;32m<ipython-input-5-797fe32f2011>\u001b[0m in \u001b[0;36m<module>\u001b[1;34m\u001b[0m\n\u001b[1;32m----> 1\u001b[1;33m \u001b[0minitial_automaton\u001b[0m \u001b[1;33m=\u001b[0m \u001b[0mread_automaton\u001b[0m\u001b[1;33m(\u001b[0m\u001b[1;34m'input.txt'\u001b[0m\u001b[1;33m)\u001b[0m\u001b[1;33m\u001b[0m\u001b[1;33m\u001b[0m\u001b[0m\n\u001b[0m",
      "\u001b[1;31mNameError\u001b[0m: name 'read_automaton' is not defined"
     ]
    }
   ],
   "source": [
    "initial_automaton = read_automaton('input.txt')"
   ]
  },
  {
   "cell_type": "code",
   "execution_count": 6,
   "metadata": {
    "pycharm": {
     "name": "#%%\n"
    }
   },
   "outputs": [
    {
     "ename": "NameError",
     "evalue": "name 'get_equivalence_classes' is not defined",
     "output_type": "error",
     "traceback": [
      "\u001b[1;31m---------------------------------------------------------------------------\u001b[0m",
      "\u001b[1;31mNameError\u001b[0m                                 Traceback (most recent call last)",
      "\u001b[1;32m<ipython-input-6-ff7f8ad6b2bd>\u001b[0m in \u001b[0;36m<module>\u001b[1;34m\u001b[0m\n\u001b[1;32m----> 1\u001b[1;33m \u001b[0mequivalence_classes\u001b[0m \u001b[1;33m=\u001b[0m \u001b[0mget_equivalence_classes\u001b[0m\u001b[1;33m(\u001b[0m\u001b[0minitial_automaton\u001b[0m\u001b[1;33m)\u001b[0m\u001b[1;33m\u001b[0m\u001b[1;33m\u001b[0m\u001b[0m\n\u001b[0m\u001b[0;32m      2\u001b[0m \u001b[0mminimal_automaton\u001b[0m \u001b[1;33m=\u001b[0m \u001b[0mminimize_automaton\u001b[0m\u001b[1;33m(\u001b[0m\u001b[0minitial_automaton\u001b[0m\u001b[1;33m,\u001b[0m \u001b[0mequivalence_classes\u001b[0m\u001b[1;33m)\u001b[0m\u001b[1;33m\u001b[0m\u001b[1;33m\u001b[0m\u001b[0m\n",
      "\u001b[1;31mNameError\u001b[0m: name 'get_equivalence_classes' is not defined"
     ]
    }
   ],
   "source": [
    "equivalence_classes = get_equivalence_classes(initial_automaton)\n",
    "minimal_automaton = minimize_automaton(initial_automaton, equivalence_classes)"
   ]
  },
  {
   "cell_type": "markdown",
   "metadata": {
    "pycharm": {
     "name": "#%% md\n"
    }
   },
   "source": [
    "## Initial automaton"
   ]
  },
  {
   "cell_type": "code",
   "execution_count": 7,
   "metadata": {
    "pycharm": {
     "name": "#%%\n"
    }
   },
   "outputs": [
    {
     "ename": "NameError",
     "evalue": "name 'initial_automaton' is not defined",
     "output_type": "error",
     "traceback": [
      "\u001b[1;31m---------------------------------------------------------------------------\u001b[0m",
      "\u001b[1;31mNameError\u001b[0m                                 Traceback (most recent call last)",
      "\u001b[1;32m<ipython-input-7-e6bbda4b589f>\u001b[0m in \u001b[0;36m<module>\u001b[1;34m\u001b[0m\n\u001b[1;32m----> 1\u001b[1;33m \u001b[0minitial_automaton\u001b[0m\u001b[1;33m.\u001b[0m\u001b[0mvisualize\u001b[0m\u001b[1;33m(\u001b[0m\u001b[1;33m)\u001b[0m\u001b[1;33m\u001b[0m\u001b[1;33m\u001b[0m\u001b[0m\n\u001b[0m",
      "\u001b[1;31mNameError\u001b[0m: name 'initial_automaton' is not defined"
     ]
    }
   ],
   "source": [
    "initial_automaton.visualize()"
   ]
  },
  {
   "cell_type": "markdown",
   "metadata": {},
   "source": [
    "## Minimal automaton"
   ]
  },
  {
   "cell_type": "code",
   "execution_count": 8,
   "metadata": {
    "pycharm": {
     "name": "#%%\n"
    }
   },
   "outputs": [
    {
     "ename": "NameError",
     "evalue": "name 'minimal_automaton' is not defined",
     "output_type": "error",
     "traceback": [
      "\u001b[1;31m---------------------------------------------------------------------------\u001b[0m",
      "\u001b[1;31mNameError\u001b[0m                                 Traceback (most recent call last)",
      "\u001b[1;32m<ipython-input-8-0e377aa06103>\u001b[0m in \u001b[0;36m<module>\u001b[1;34m\u001b[0m\n\u001b[1;32m----> 1\u001b[1;33m \u001b[0mminimal_automaton\u001b[0m\u001b[1;33m.\u001b[0m\u001b[0mvisualize\u001b[0m\u001b[1;33m(\u001b[0m\u001b[1;33m)\u001b[0m\u001b[1;33m\u001b[0m\u001b[1;33m\u001b[0m\u001b[0m\n\u001b[0m",
      "\u001b[1;31mNameError\u001b[0m: name 'minimal_automaton' is not defined"
     ]
    }
   ],
   "source": [
    "minimal_automaton.visualize()"
   ]
  },
  {
   "cell_type": "code",
   "execution_count": null,
   "metadata": {},
   "outputs": [],
   "source": []
  }
 ],
 "metadata": {
  "kernelspec": {
   "display_name": "Python 3",
   "language": "python",
   "name": "python3"
  },
  "language_info": {
   "codemirror_mode": {
    "name": "ipython",
    "version": 3
   },
   "file_extension": ".py",
   "mimetype": "text/x-python",
   "name": "python",
   "nbconvert_exporter": "python",
   "pygments_lexer": "ipython3",
   "version": "3.8.3"
  }
 },
 "nbformat": 4,
 "nbformat_minor": 1
}
